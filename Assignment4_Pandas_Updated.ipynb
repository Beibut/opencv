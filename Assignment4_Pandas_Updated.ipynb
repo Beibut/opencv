{
  "nbformat": 4,
  "nbformat_minor": 0,
  "metadata": {
    "colab": {
      "name": "Assignment4 Pandas Updated.ipynb",
      "provenance": [],
      "collapsed_sections": [],
      "authorship_tag": "ABX9TyMAIQshGiPy/cpHBgjiDVLC",
      "include_colab_link": true
    },
    "kernelspec": {
      "name": "python3",
      "display_name": "Python 3"
    },
    "language_info": {
      "name": "python"
    }
  },
  "cells": [
    {
      "cell_type": "markdown",
      "metadata": {
        "id": "view-in-github",
        "colab_type": "text"
      },
      "source": [
        "<a href=\"https://colab.research.google.com/github/Beibut/opencv/blob/master/Assignment4_Pandas_Updated.ipynb\" target=\"_parent\"><img src=\"https://colab.research.google.com/assets/colab-badge.svg\" alt=\"Open In Colab\"/></a>"
      ]
    },
    {
      "cell_type": "markdown",
      "metadata": {
        "id": "WQnE-FIctD3X"
      },
      "source": [
        "# Assignment 4: Practice Pandas"
      ]
    },
    {
      "cell_type": "markdown",
      "metadata": {
        "id": "XWndkUcMt0Y6"
      },
      "source": [
        "# PartA\n",
        "Basic operations with Pandas."
      ]
    },
    {
      "cell_type": "markdown",
      "metadata": {
        "id": "wCIa805ItoIh"
      },
      "source": [
        "### 1. Create an empty DataFrame"
      ]
    },
    {
      "cell_type": "code",
      "metadata": {
        "id": "Eukmdzr8tr1O"
      },
      "source": [
        ""
      ],
      "execution_count": null,
      "outputs": []
    },
    {
      "cell_type": "markdown",
      "metadata": {
        "id": "vxGmJIP74KS6"
      },
      "source": [
        "### 2. Create a complete empty DataFrame without any column name or indices and then appending columns one by one to it. Result must be as in a given image.\n",
        "![pandas.png](data:image/png;base64,iVBORw0KGgoAAAANSUhEUgAAAPkAAADDCAYAAABArrdbAAAAIGNIUk0AAHomAACAhAAA+gAAAIDoAAB1MAAA6mAAADqYAAAXcJy6UTwAAAAGYktHRAD/AP8A/6C9p5MAAAAHdElNRQfkBh4PKw+TFIH9AAAs8ElEQVR42u3df1BTd8Lv8bd3s+PJPjhNRjsmQ3sl1F4JtqvBWiX7uNY41jWM8hjG+kiudSr9sYq1W6FuRdZWG+2zCna1YKsVe90OuNYBH3VIH/Uadfss1LVLZFsJXn8En9qbMKXD2am7HEfufO8fAQlKBUEE0+9rJjOQc8433+83+eR7cnLyPUOEEAJJkmLWfxvoCkiS1L9kyCUpxsmQS1KMkyGXpBgnQy5JMU6GXJJinAy5JMW47kP+5XpS9EMYMuSm26O5VLfe5do0lZA2LJn8z/ujqQHWp+ojddfrMT9qJ2NFCdVN976e4Q/S0A+5tU/NS3390XDpB07Xs9VMZO7ykmvruEdRzFh6uPVgYlpYim+lldD5Kso25uKYEcD3aQGpcfe4InFOCo57cNzoQwVlhGWgu0eKRaI7X3iETbGInE+/Z7kvW1gSHMI1yyIMJpvI3logssYbhPKQQ3hOt0TWOb1aWONSRfZvMkVqkkmYTBbhWFIq6toWi2CRcCgIuOmmOMXOb4QQ12uEZ7wiUjfWdXro5l0uYUjIFsdaRA/UCc9kRVhePdZxV2incBoU4dgWivx/vU7sXOIUqaNNwqAowjA6VWRuOCZC13tYz56UIYQI7XAKxZApyq/fprpHsoTJkCl2HikQmZMtkbKSMkXpV0II0SyqtmYJ5xMWYYpThGKyCsdzRaKqub0O5SLTYBXOeanCMsIkUlcViYK5FmEwWIRrR0cftpwvF6vn2oTJoAhlhEU4Xtgpar7rSV9K95O785m8qQVrXiWlczWK13ixflhFybQgRbuqOtbRqimvd1DqDxH6Yie209m4N/gjyxKyOdYiEN/sxBlnZfVpgRAC0VJJ1ghAZyMz04b/4woCNz4ihCnf58M8141D6WW9TWk4J0LNp1VoAK0hVMVB7g4vNeeDVO3IQNuRgfuDYM/q2ZMy7oTmY/2mIGkf1BBqDlG11Y1FAdAIXTXhzCvF5w9Sd7QAxxUPrqVlqHTUg9RiKjc6CG7yUDO7Et8GK1XbSvG3AqqXZbOy8SXkUlFdR93RIlIb8slY7u0oQ4oN3b4NfOERti5GL2VuqWgWom0kzxbHrgvRUuYSyvjVoua6EKFtDmGYvTOyzunVwqpYRU51R7GhHU6hjM4RVdGj2Tc7hTPOKlaf7qIeXxUJhyFqWbBIOOJsXa/bpS5GctEiyhcoQplWIC59z1ZVr1qEYV656LSzcLt69qCM0A6nUG7eG9DZhOeLqI2OZAmTziJyPu3RbopoqcgUhociz0NkJLcJj7+9nxyi6Ku253JEpqhsf36e8Ii66P7/NEdYRmSKcjmax5QejuQmMnfVUOOPum12YmhfrCjoAUVRUBQ9ii7yN5oWGSEBdGasCVElJlgwhAMEr/bw3eihDDKnhKgoqwYguL+UqscycD/Rx3e5TscVVKrfeZ7pVjPGtoON9neCaFpzRzu61cMy4pwUnI7u03KyRt9UlGIjZXzXuynhT9bjnpKIcVjkMfSuMtSr0Y+hoCiR50bRtf2tU1BaNbRWqPHXoX6eT/KPow7+TSkkeDVMSO1jn0qDSg9Drsf8qA3b+I6bNcFwxw+mRR+Nb428HFt6vLWJjIVOmg+V4rsaoOLjAPZnMrH2qfkqoTAoJgtmQN2ThXNDkNTNVQS/i+yKV71mhTv4FqHHZegMWKL60/aYBdPNeW4P580uFOPOLEJ17aQm1PaRwZuFAe7gzQiUeaW0iLbt228tx8h+qE+dKg0y9+578tY6AoGOl2Cwvg7VZCU5+qh226iqfU+oDLPcpGnllL1bQmm9ncx5fTwaHa7EexpSpthRgMBpP9qULPJnWTDoAFSCF7r4LH2beva4jL74oooaJY3slx1Y4jr6804Cbn08GU5XUdXTPSnpvtXDkLcQOu/Hfybq9mXwzg7QtIYpXZdPxZdBgv9ZTO5WP9YFblKjd5fjLFhGBKk6WE34qnZriOIcZM7VU7qumOA0Nxm9GHFamsIEvvRTvb+Y5+fm4kvIZvVCEwCWRy0oX/jwhSPrhvfnU3C0i+jcpp49LqMvHk3GcrUG32eRZ0CrLyF/m/+OQm5ZkINbV8KyFwvxfhkkeMGPb08hy1aUcJffkqQB1sOQhylbnEKKLeqWmov3TkYBxUGWS6VgVjLJswtRZ5VQmmfrvI7OQc7GLPT7nFiMevTD0ijpdLKKgiPThaVVwTEv6pjAHQh/5CZ5oh3nyhKaJ3rwHS3A0TYamp4ronhGkGU2M4nWZFz7LWQt7OIDwW3q2eMy+uKxHEo2WqlaaMX8aDL25X4cL7ow3UkZI5wUfVKKq7WcZdOSSZ7o5PmtPng0GePdra00wIYIcQ9mhvk8n+RpfnKCUV819ZK63411KRSfL8V1r09gkaT70P1zzpqmol6poWCjF/28cpwy4JLUI/fND1QC7zgxWzMoM+ayc42D3p7/Ikk/NPdmd12SpAFz34zkkiT1jgy5JMW4exLyTr+ftubf/d+hD0b73TfanLii+pbF3sXGSH/82MyyowNdWSmW9fh7ct87zzP9cTP69gkX3vb1+GQY0wuVtAhB8y7nD+uAWUI2x64LLm1OvWWRc1cz4no5mT+oDpEGQg++QtPwrXSS9pFC9oZSCiYa0YJVlB8P0gy9OiFFkqR7p/uR/EIx698L4txYQcFzDmyP2UidnU3B5ixunDneGqQiL4OUh/XohxlJfnoZZV/eyUmWGhWZeszLo6Y/CpeQNiyF/DNAawVuYzJpz9hJfNCMPa+YQlciRmMiGR8E2urgY5lFT8ZbJSxzJGM2GjFPfJ6S+s6PE/hoGdOtkT0SoyWZ6UvLbj2Ns1VDDYcJy/O6pRjQbcjVT31U4SBj9vefNOl/OwP3RxruXTXU+b3kmHxkzc3FdzdD0t0kCABoeCv8OH9fRyhUg+fhSnLXRE2kcKGYZUu9mFZ6qQsGqdlfRKZVufWc7/pCHBYz9jXVPaycJA1e3YY8GAzBCDOm7zvDrLWa0rIAtuVF5MywYhmdStbmHBzhUkru5g8zdBbs02xYp9lJVpKxz7Bim2LHfCVI6MZKCrZnc3A+BCgWMuba0fw1HbPJhEMEsWCfYcNiMmEZ7yDrZVcff64qSYNb34+ua0GCVxSSH4v62achBVuCRvBCqPfl3uL2kyC0Mz9k7qhGXGTiihu/WX8ig6zxNeROTCHt2Vzy363A39VsrY+tpqal6wNmknS/6TbkFosZmkID8PlUu6OfTra77cFqJZXVx4PUlOXjtGr4d2RhT30eb2+mZZak+0S3ITdMcWDDR/knatcrKBYsD2nUfRl1+Eqtwd+gYBlt7ryq7qaRtWMJiqKgXY2KdThEc3+0WGfAOs1F9qoiKo8X4AhX4vXftE6rRvhKmLDamweQpMGl+9310dl4XjDjXZFB7kc+/PV+qg+VkJ/XdlRal4o704p/6zIKjwcIX6imZEUhPpMb94zO46piS8Ha5KVsX4BwWEWN2juwTkxB+7QiMqq2hqnYVkHgLs+1wOfF5G6qoLo+TDgcpHqPl4AuGeujN61XX4jzUTP2dfLAm3T/68FncgXHRh+VKyz4N7ix2+w4V5QQGGa6MbmAbVU5pQugJDMFy+NOCq84KNpXcOvPQR/LpniNlarlKZjNRlKijl5bFhZQYKvC/aiZxNQsqmwu7Hf7RJE4BfW4B/c0CxZLCq7fQ+aunWQnDOAzIEn9TP4Krb/sd6NfYaTyfFHUVVJu0lqB25iNsSJE0YyBrrAUq+QPVPqRcqWEtGF6kld2ce76i2b0w9xUtOrvp6k7pPuQHMklKcbJkVySYpwMuSTFOBlySYpxAxZy72Ijxhe9A93+rskJH6QY0oOfmhZi10ddFK/t1tUR45giJ3yQYkT3X94kZFF62oGq+ciflk/zq5UUu8wopj5eh0ySpHui+5FcZ8DymA3b+MgF/IwPJ2Mbb8V64xKcbRM+PFtI4bN2Es1GjJbp5O4PdyomfCifNKsR/TAzKc8W4r/lBy8q1e8+z3SrMTLFlC2D/E/CN5Z5lyZjdBR2/GxUqyZ/opGUvOpbfsiihsOEm+72ObGSdH+6a5/Jw4fKaX7Oy6VQCN9SKFnhwdeeswvFuJ8tQcssp+YLHwVWH0WH1E7bB97JwLm1GedGH3Xn66hYaqTiWReFXwIYcG4sIavZQ9YmPxoa1WuyKVZyKVmT2vmXZ63VeKaYscwuJDDQvStJg8BdC7kybRm50wyAgm2ek5SmGvwNkWWBfaVUmdx4VjmwJlhxvOYhKykqmq0+irfW4dxQQs5sG5aHLKS+4CFnop/S/W1RjUvF80EubM4i9+1lZH1kxPPBamzyc7Ek3dZdO6HSYDJ1TOqoGFDQaG4byYPnA2BdhrX90XRWUqKnY7niJxAO43vGSNlN5ZoSQtA2d4vyxGpKVlaSkleOY1sN2UldtSiVgvOCgoHuWUkaJO7eV2jdvV3obprQ4ab1W3RWVp8WCNH5FtrmiForjP90EBSNQHXgzq6PLkk/UPfke3KL1QrBYNSsqCGC0VOkmmykjAhSXR28bTnB97LI8adRerwI29FlZO0Jd7meeiVMOCwPvEkS9CTkrSrBL/34zwRRW6H5qzr8ZwIE7iBE1rlu7A2lFB+KhDL8SSEln0VtrzjIXmqnZp2b3D3VBK8ECXzmpSTPzfrjkVW0M+txrwmSsbUA1xNZFG9Mxb8ii5ILN9e3Gs80M5a58sCbJEFPQt5QgntiCikTc/Fe1ah+azoptmQyNvt7UHyb0dmU7nIRzLNhtiTifM+Ac4ah0yrW18rxrkvGv8FF8qPJ2BfkU3bFgvVh4Go1nhcKUBcWUTArsp1pQTEFswLkvhj1tZokSbeQPzXtipzwQYoh8gcq30NO+CDFCjmSS1KMkyO5JMU4GXJJinEy5JIU42TIJSnGyZBLUoyTIZekGCdDLkkxToZckmKcDLkkxTgZckmKcTLkkhTjZMglKcbJkEtSjJMhl6QYJ0MuSTFOhlySYpwMuSTFOBlySYpxMuSSFONkyCUpxsmQS1KMkyGXpBgnQy5JMU6GXJJinAy5JMU4GXJJinEy5JIU42TIJSnGyZBLUoyTIZekGCdDLkkxToZckmKcDLkkxTgZckmKcTLk3+fzfJJ/PIQhD2ZQFm6/U6MiU8+Qx/Pxtw50BW9P3ZOBccgQhjzopkLtfv3w0WKKPwlG/vlyPSl6Pfa3A7ffqKfr3d2WUebSM2RYBmVX7+HD9ofWanIfHYL+6WLCfS/te8mQd6epAs/GarSBrscdUfHu96H9s5NUzUv5UbWb9YOUrsul8GhbyBNcFJSV4plrGeiGSHeBDPnt6AzYnrAS/NBDSUMXy694yXUmYx6mR29OJuNtHypAq49lDw/B+GwxJS+mYB5mJNG5nuozZTw/0YzemEjaJv+NN47goXzSHjej1xtJdCyj7EIf6616KT+q4XjWg3uKhnd/W72i65a5nsI5iRhnv0Hu44nk/qdG8J3p6B2FBBsqyM10k78/EnrtQgW5TydjHKbHaLHjftffUV4Urb6MZe3rWdPI/6R9fFLxvZ1BysNG9Ho95okZrD+udteKnjmTT8qP9aS9XUKuw4x+mBn7Si/+Q7nYLXr0D08n/6gKaFQ8o2eI2c36tzNINuvRm+0s2xPsXM6aYtxWY2TvRAtQtiItsu4wM8lPL6PkSw0IUjhFzxDLMnzte3THc0n8sR77O0FQ/RQvtpNo1KM3p5CxqfpGf6nH15NmNaI3JpO2zkfoXuwRCqlrp1cLq04Rmdt2CpcJYVlyTLSIFlG+QBE8tlrUXG8WpfMMAoNDeHxVovQFq0BnFatPCyGuV4mcBAQjbCJ7R6XY+YJVgCJMT2SJooOlIvsJRWBwidJmIcT5IuGIQ5jmFokqf6XImawIZVqRuNSHqjeXuYQhziGKvhIitM0hlBGZory5beGNulmE8+UCsdPrF8Fqj3AoCNOCnaLmfLMQX3iETVFE6oY6Ia7XCM8TiuAhlyg4eEyUvmwTis4isn0tt6y3erwiSMoSpdU1ovQFq1BGuETpN0KIT3OERWcQzg2Voqq6UhTMtQjTP3tEzfVetU6UzlUEcS5R+p1oqwPCkJQpCg6Wi5zJikBnENYFHlFesVo4DNzoz/KFikCniNTXKkXdF+Uie7wiaO+b9nISHCJr405R7g+JqtesQtFZhGtjpTjmLRKZoxGMzhbHvhPi0sZUobQ/30KImlVWgZIqCs63iGNLLALFJnIqakTVtkxhUSwi+0hLpO9HI3jIKTwHj4nSVx3CoCCUGUUi1I8vZRny79Me8o+bRc06m1DiUkVBIDrkQrQ0N4vm5pbI+t4sYUARrrKOJ1N5wiPqhBCiOkdYdQjra1VCCCHq1tkEik14vhAitNUhFJ1JZB2JFBPa4RSKEglo70TefJTJHlH1VUiEPl0tUhWDyPy4ObK4/YXW1obIJqXCqSAsrx6L/B8dXr9H2HQIS1vdxXeXRJW3UlSdvynk/tXCpkNYV9VElWGI9IcvW1h0irAu8Iid3hoR+q4vT0zXIW+veyR8JpHlbRFChETRDEWQkCOOXW8LueIUO78RndbNPtJRjumFStEihBDXj4nsBIQyue05vLG+RWT7hBCBApGqKMK2oU6I63XCMx6h/HOBuHT9mMh+qOONRVw/JnISEKYlxyKPoUNYXm3ry5ZKkTmi/0Mud9e7pWB7OR+XoZqCjRU037hfI7g/F+dEM3q9Hr2r5NZd2AdNmAHijCgoGMymSIlxCkrbblrom2a01jClLj36YXosK7xorUGCDb2sblPkM7j2WT72h82Yp6ynWlM777IDysMWzLoelPdNiBAKpgcNkf/jLKTOcpI6WrlpPZUQEHjHjn6YHn2qB7+mEWoIwrR8ilY54Gg+zztTMJsTSVvj63KXv7fPkelBMwD6OD1gxPSgAigY4yLPVceqBsxtTTGOMEKrSvNV7UY5ZosFBaBVJdQEPGiJPIeA0WSG1hDNTRokOUkbD4GjPoIXvFTWK9hdLiytKiEVtE9zSR6mR29Mo/gKqA1BVLUZFQVTewV0Rswj7lonfC8Z8p4wuMhfnoq6x0NJUIm8CJpKyV1eQsBaQN13LTSXZWLoRdHmB40oOhPuHTXU+euo81/i0vlj5D/Ru6qqn5Tju2ohc1slld7IrWihBfVoOT6187rKzRt39fnwQQNmNMKhto1VPxUfFFP2mdrFemBdUt7Wjjouna+jYokVMOFcV0ldqJlLpyspmAXeTfmU9PXYQ29oYYJNkT9DV0JoOgNGQ0dP3PhLZ4gE8Jsgoba7QuEQ6MwYRyiAFdccK5z2UrbPix87zrmWyHYGUKbk42vrh7rAJep2uTEYjBii+1ILRd5I+pkMeQ9Zl+TjNgWo/kyNjAutGloroKmEP6/A82E16CD0RRXhOzgUb5rhxKaE8e3zEmgK4tv8PO6lZQR6dUCmbcQ2Ocl6zolzVuSWvdCJSb3NUXYdKDoI+b1UfBbs/E3CYxk4H1MI7vOwfr+PsjVZuJcWUvXdTW8Rj6XhTFIIHq3A91WY4KF83AtzKb8C4Y8yMBtTWLYvgKozYh6hoOiMGOIG4IlsraIkrxjvoULyf++HEQ4ctq76xI57nhU+LyF/kxffoULyd1RDkgt3amQV6+wMrK1VFGytglQnroTIds5ZFrTTlZSfDhMOlJG70M36oyEYnYo9gba+9FKSV4D3HnwNKEPeU3FOVq9wdLzTm9ysftWBsTof53Ml6F8uxTPDgP+9XIrO3kG5STmU7srBEvCQMSWN/GoDjpezSO1NAJq8lB9XMUxxYI/OYKoDh+HWXfaOtjlwL7CifF5M9jrvjZELAJ2N/D0lZFuDFGSmkX1Iwb21nIIZN4Vcl0r+niLcBh+5TjtpmwNYnsnF/RiY5nnwLDDiW+4gZaKDnE8tZO8owG26108iEOfEafWRuzgfb6uDnG2FuAxdraiQuq6ckpetBDZnkJZZQODRHEr2eUhtb3qSE2eSitoE9tkuLG3bOTeWUjBbo/RFB45nSwg9nkX2XAsoDvK35uDQ+fC8mEuF2Y07CWiFln5s8hAhhBiArpake67iWT0Zh1yUf1OKqyfHI2KEHMklKcbJkEtSjJO765IU4+RILkkxToZckmKcDLkkxTgZckmKcTLkkhTjuj0lYMiQIQNdR0n6QevrF2Ddhvzvf//7QLdRkqQ+kLvrkhTjZMglKcbJkEtSjJMhl6QYJ0MuSTFOhlySYpwMuSTFuD6FvPHIWlwp8QwfGc+EuWs53DjQzbmXGtjiTCR+2lpqezQfm8behfFkfnzzBHAqexd03N94ci8nvh7otvWOVrOdxdPGEj8ynrHTlrL7bKRN6p5M4ocPZ3jU7Z+Gu9h9n7xeGirySGt7nY+d0dEu1FNsec5OYvxw4hMn4HrrBDeadPEAK5xjSRwVT2JqJlv+rN4or/HIWlxPJhI/KpEJ89Zyop/7ofchb9rLqhc2cuqBdH79WjoP/HkjS14/cBen2R3kzn7MgQdeYeVDh9lb05eCDKS/d5ZtcxRA5cTOLRy5H0Peeop1v9yKllnOxcaLlD+rsvGXW6ltBcOCMr7+9lu+bbtd3LeIcY50po4c6Er3wOXtZOfWMvX9s3zbeJZd0y+T99puGtA48eZifq97Bd/Fb7l4fCWGfdn81qcBDWx/NY+GWWXUXf6a6rUm9v5yHSc0oOkAq351knG/q+HryzVs++lJsvP7Nze9Drn2x8McVkeSvmozK3M38+u5I2n0HeDk/X4Ruh469fF/YHL+K4tmJ3Hi4xMdM5z+dS32aXlsf2sxrjkOJqQ4yPPe+latHlmB/cmlHG5UObBkLEsPatT+zs2qI+f4wy/trDioDnQT78zFk3x2dSYvPpeEgkLSwldIv/bvHK67ab3WWra8dYZ/+c0iEga6zj2hG8+zRYUsf9IAGJg0eyqjrlymoRVMT6+h8M35JCigjEonfYJKw+W/QeNhDtdP5aUXxqEAI59ezvzhhzl4CrQ/HuDE2EW8Ym8rb8kixhzr39z0OuQN/9WApjOREB+ZxH7UQya42kDDfbIL1ifaCQ4cSSB99kgMznSS/vRxx5P0Iz3UHebczzZTcdDHn95M4A9Ff6Ahevtz21mc38CiDzczM2o0G/erQn6ZnMC/vl/F5jmGgW7lHRpKp4sY8ACGoZepv9J5rcY9v+XgmF/z4k8Hur49FD+J+c6kG7P0NvzxJH+bMInxOoUk53yeim9bcPUzTtaOYvKEkXDxMpfjExjVMbUvCQktNPyXSsOlBoyPJHXM0W9IIsnQwLl+3HvrdcivfaehoTC0vSGKgtKqce0HcKq79sePOfFYOjMNQNxM5k84xd7oKxcMn8qcnxsi3ZKQhKmpkcb2z+3fHibvl7tJ+LddvDRWubMHHswemczkuJPs+LAerVWjwbuDf/8/GpoWFfzWWnbvaGDO0pm9uhDFQFN9eSz+cCRr3kzvXH+tnt1Lcjgz9x2W/xTQNDT9UKIv2aAMhWtXVa61aHSEJrJs6FCNln7MTa9DPlSvoKBxre05vKZpaDqFof/Uf5UdHFQO7/sPzh1cythR8cSPeoTF+xo4vO9wx+cqRUHf/vePiLoyicbJf3uV3ZcVRo00DHRD7i7dJNa8vxylLIMJKQ5WVI3hqUkmDHFRL+iavezV/Qvz75dRPErDx0txrg7z0p5tzB8VtUA9xcZn3Hz8Pwqp+M2kSLAVBaXlWtR+jYZ27RpD4wwMHaagXWuOKkDj2jUFfT/mptchT/gfCSitYRoaNUAjfPEyxCWQFN/bEu8TTYfZe+oXlF38mq8vt9/KmX92Lwe6/aiiMGbJfo6tNbHjVxt7eFT+/qGkvMSu42c5+9cqKt4cg9aQwLixHctrD5+An88kaaAreocavUvJfE/hjX/fxfxHot60tFq2PLuUz2btovw3T3WM7o+MYdTX9Zy78Tm7gXMXTCQ9YiAhMYGWi5c7jsJ/W0/91QTG9GNueh1y5efpzBzeyIG389hYsIK1XpWRs+YzKYb2QLvSeGgvtZNmMjX6CifKZGbaz/FxRUO325sSx5C0cAMrR+zm1YJabv5CbahOQ7t6B9dZGjTq2TLHwYojKqBR+/4mDo99hn+58eJVOfPXy4wZO2agK3pnGvfyan6Yl/5X5+MnoFG7aQl7kwspWzKu83XlRv6C9HGn2PFh5PltPLiVvX+fSXpKJDdPndvN+1UqoHJi627OOeZ3fj3dZb3/Cs2Qzts7VzLp2738dtMBrv38DXZ57s/PWj3XwB/2nWHSrKk3XSxQYapzEoGKA50PsH2vBBb920pMv3+VrTXXOt3/1MyR/PtzE8j8oGclDR5JLMqZSsPrKcSPSmbxn55k8+8WcSMXrWEawwZMI++vUUD17eXwxZOsSIn6nj/exe6va9m7v5baDzI6nQMw4fVTwEgWFWxg3NHFJI+KJ3WTxovvr4kMgIZ0Nr/7C2p/lUL8qBRyLv2C4n7OTbfzrv/jH/8Y6H6WpB+0n/zkJ33aXp7WKkkxToZckmKcDLkkxTgZckmKcTLkkhTjZMglKcbJkEtSjJMhl6QY1+3JMJIk3d/kSC5JMU6GXJJinAy5JMU4GXJJinEy5JIU42TIJSnGyZBLUozrW8jDPtbPSUQ/RI/9neBAt6VfVOelYDRPp7ihhxucySfFlo//5vnbPo+6/4KXss/UgW5aL2n433WTYjFifDCR6SsqCLa39UIFyxyJmB80YrZlUBjVxvAn+aQ9bsb4oJnkOfn4wgPdjn50oZDpRj16fdTtx3rc+4GrZWQMG9JpmTGzgv6c8Kv3Ib9Shjs1jZKggqK75914b2g+yo+n4FkOFfsCfStrfD6+4/nYdBD8pJCST5v7Vt5AdcnxXNy/N1NQ3Uzz+VIcF4op+xwgSPHSXIKzywl+04x/g5nS5/LxaUBTBTlLfdjeC9D8TYCS8T6eX1kRu1fbGZ3DseYWWlrabsESXONdZEwB1GZUUzaV33Usby5z0Z+TYvU+5JpCSl4VNR+4MN/zXrw3tONl+B53kbXAhVJRQaB9xGr1scySRv57uWTMmY798WSmv+W79UXbGqDYmcz0TX60Mx4c0zz4/3c+GRuqqNqahj3PB2gEPnweuzWR5EcTSXYsowfzQQ5Uj+D7yIt1eT4OE2BIZfXBY6yeDIS9eAMOspfYUADTrBzcI7xUVIN2vBzf41nk/rMBMJC6PAvr0XJ8P4ir7Wj41hWgLvbgGgFcVWmJM2C8hzXofchHu8h5wYYhVkdxVLx7arDPc6AkZOB6sJzSM9HLffia3JQePEbV0RyUrcV4mzpv71vhpiShgPLXbB3v1E95KFhgxra8kqoNDgiXkrsyiPvQJerO11H0mI/sDd5+3X3rvSD+8waM4WIyUpNJfDSFjDVewgAXggQfsmC50VAzFksLwQaV4IUgxtHJUVcNScZqCBK40osq3G/qi1lf7SD/OUvkf7UZ9Wo1HmcyZrOZRMcySr7s32dbHnj7Pk1eSr9w4JqmACYy5lrwlvk6wqezkja7LbwjLFjiQoTU9oUagQ/cLGvIonSr8/YzcZqyqAxWkj0aQMGeakW7EhqcIW9VaWkK4POb8Byt41J1AZZPssjZo0KLhqZXOl81RAHtajNaiwZK56uGKIpGS8yP5Bq+bSWwOJvU9uYbUnDOcuDeXEXoqwClMwLkL/TcegznLorZcbivwvtL8V2owmcuidzRqqEZzFRtcODQQfuL+AYdHVdKaSghZ42GfnY25u56uDVIxcZ8io8GadEBTUE0i3Ogm/89FFAMOBZmYY0D4hxkP2Nh+qc1kKmgtGidrxqiaShxRhRNQQt1vmqIpikY+3Gu8UHhqo+yQxYyqy0d9yVlUrC149/UV3NwbPXgawDb6P6phhzJuxSkdE+QrKPNNH/TdmsOUTLRR9knPRhjDU6Kqytx+ZeRvV+97arqnlyyjydTcLSKqk+r8K2x9+tBmD7RWUi2QLPa0SYNIm9wo61YrtQRuDE6BwmcN2N91IBltIWWC0FuHFBvqiNw1YL1oYFuUD+r9uKzOCLHL9r7Kxygul6NWkkD9P168LoP1yf3491fQcXxABoa6hdeKvZXUB0Ln7O+LKM85MT5RPSdBpyzrfj29eCosMGCJcGB510XgZXZVNz0dZEeBe27SCnNqgoPWrDEAaqf4n1+0DQG57F3A855dvzbCqhuAsI+SsrCpE5JAVMaLls1xR/40YDw/kJKrzrJeAKUaRk4AiUU/acKqPg2lxCY4cYR4yN54EwNJNmwRN/pL8Q9O5uyBg1Q8b9bjC/BgSOhHysiesuXLSw6BETfFJH5cUuvixwsalbZhOXlY+KWloR2CqfJKXZ+dUxkj04VBYG2+69H/e9fLWzjV4ua60II0SKqXrMJy4JyETrdcX/zkRxhG2ESludKRXOoUuRMtghLkk2kzs4R5Z/uFJmjLcK2rmqgu+F7hMSx3ziF1WQQBpNVOH9TKULti4LlImeGVZhGGITpiUxRdLqjB5t9HuF8zCQMI0zCOtcjjn0z0O3of8detgjbupqb7m0Wxza4hO0hQ6QvZuSI0vP9mxk5aYQkxTj5mVySYpwMuSTFOBlySYpxMuSSFONkyCUpxsmQS1KMkyGXpBgnQy5JMa7bM2b/8Y9/DHQdJekH7Sc/+UmftpcjuSTFOBlySYpxMuSSFONkyCUpxsmQS1KMkyGXpBgnQy5JMa4PIdeo/XApjuR4hg+PZ+y0xWz/s9qLchrZ+9xY7G+c6jxDaeNeMpPtrK2503lLNQ48F4/ro97UpRf+uhZ76lpqW+/x4w4U9RRbnrOTGD+c+MQJuN46QWP7sosHWOEcS+KoeBJTM9kS9XpoPLIW15OJxI9KZMK8tZxovPOHHoy0v25n8ZPxjH39ROcFg6gveh/ymt+y+Fe7aUiYz69XzWfk5b2sWLaF2jueWnYk899cjmnPOrafa79P5fDbGzk3ZwO/Thm00xr+AGmceHMxv9e9gu/it1w8vhLDvmx+69OABra/mkfDrDLqLn9N9VoTe3+5jhMa0HSAVb86ybjf1fD15Rq2/fQk2fkH7v8rqPx5Lc5Xahk1btRNCwZXX/Q65KpqYOpzK3nn3c2szN3Mr6cb4PI56nszl/aol9jwYgs73txNI6DVbGGtbxIbXn8KBY36j5biSBnLhJ+OZYJzBQcuRzZr9ObhSh3L2JSxjH0yjTxv1Ftiw15WOO2MTUxkwoLt1GpQ+8YEJrx+qmOdxt24EjPZ2wTqn7eQOWVCW1ku1h5pK6tmLfZpK9j4gp2xc7fTgMqJf3MxIXks9mmuzo/5PY8Ltyn/r2uxT8tj+1uLcc1xMCHFcWuZg4jp6TUUvjmfBAWUUemkT1BpuPw3aDzM4fqpvPTCOBRg5NPLmT/8MAdPgfbHA5wYu4hX7AbAwKQlixhz7AAn7/d510fOZ9uhbcwfc9NANMj6otchNzheYfPv3iD9EUA9zIFTKowaQ1IvZ+BMWvY2zzRsZO3BU2x/82MSVr3BTAPQuJe8/MvM33eWv/z1LxQmn+TVTYfRWmt5/+0TJG35C2drzvKXnXNQj5ygAQCNU9V/Y35ZFWfr9jCn4bds/6PGuLSZ4DvAqba9DdV3mDM/S2fmiHp2/HoLLPVytuYsf3rdwO789yN7JTo9XDpJeNZ+zu5/iYS/biHv9wbWHD9L1fFdTA2f4tz/a29F148Ltyn/R3qoO8y5n22m4qCPP72ZwB+K/tDWjsFGIck5n6fi2/69+hkna0cxecJIuHiZy/EJjLrxejeRkNBCw3+pNFxqwPhIUtQVVJJIMjRw7uuBbk8fjUrq+vU+yPqi7wfemk6wNnMxuxuTeMnzCuN6O3+0MolX1s/k5BIXW1jOhgUjI/ePXETF2XJeegRAYfKTY7j2dRhN9wAmY5jPKg5w6rKG8tOX2Pa7+SRECmP87EVMMgDKOMaPvka4UYOUdGZygv+oA1A57K1l8uyZGEhi5Sd17JoXeUzDpElYGy9H5gn/ETB0EjOdkWWNp/7M5QnpzBwJYGDm3KmYfnSjEV0/7u3KBxg+lTk/jzztSkISpqZGGvvxihp3hVbP7iU5nJn7Dst/Cmgamn5o5yuoDIVrV1WutWgwtPMVVIYO1Wj5+0A3or/6ZnD1Rd+mdG88zIp/yWT7f43hpQ/3s/lpQ5+KM/z8RRYl7qX++UVtYQVaGzjwzjp2+BoiVxj5tgFt1EwggZc+2AObtrBq1goaHpjKorXv8MbTDwAwNG7ora3UTSJ9xjVWHamH/36Ow38ZR/q7BkCjfv861u36LBK81kbOtU7qOBAYZ7hxzbfmv7Uw9IGoywENe4AHotrQ5eN2V76ioG//+0d0XIllsFJPsfHZpZycWEjFbyZF+kJRUFqudb6CyrVrDI0zMPSaghbufAWVa9cUDP800A3pJ4OsL/pwVdNaNv7PxWxvnMwb+71sbhvp+kQH6IaiRF1/SN2Xx6t/TGLDIR++oz68r0/uCNjISbxUUIav7iLVa00cXraWw90cjJ+UNpO/+Q5T6zvAqUnpkY8EF7eTs7qeqe978R314ftfyxn/PW9/xn/Sc+3vUZcDamokTDfuoPxBT6tly7NL+WzWLsp/81THbucjYxj1dT3nbny2bODcBRNJjxhISEyg5eLljqPw39ZTfzWBMfF3+Nj3i0HWF70OecOHefy2SmXkuHFQtZstv9vClt/t5lRTb0vsmqr+DUaMYlQcoNayfX8tXNNQ1cOsmLOUvV8DKIwcMwZjTy4T+GQ6M5uO8Ns9tUyaNTPyIv27SnOciYSRCqByYs9BApqG1kVxIyeMw3TqAIcbgdZGDlSc5G//r5vHvIPyBzeN2k1L2JtcSNmScZ0v5zTyF6SPO8WOD2vRgMaDW9n795mkp4Dy83SeOreb96vUSPu37uacYz5TY/UKKoOsL3of8ssNkQYc2cLa1Xnkrc4j743t/Mf/vbsVTHAt51/D6/hZih3HC3tJeHklM69sJfP9n/DiXNg+eyxjfzqWsfMOMsazhpndfeOmm0S6o4EDfx5HevvHi+RFvDLpDCuenIDduZQ/P/kar0yqZd3C7dTfHOAnV1I4r5G81LFMmLaEU2PTGce127+93En5g1lrLXv311L7QQbxw4czvO0W+cZiJIsKNjDu6GKSR8WTuknjxffXMEkBDOlsfvcX1P4qhfhRKeRc+gXFnpm3v9rrfeDU6xMYPnw4P3vrFA3vZTB8+PC278sHV190ewUVOWmEJA0sOWmEJEm3JUMuSTFOhlySYpwMuSTFOBlySYpxMuSSFONkyCUpxsmQS1KM6/ZkGEmS7m9yJJekGCdDLkkxToZckmKcDLkkxTgZckmKcTLkkhTjZMglKcbJkEtSjPv/KF8RuHaZlqoAAAAASUVORK5CYII=)"
      ]
    },
    {
      "cell_type": "markdown",
      "metadata": {
        "id": "qdLANLn8uiUs"
      },
      "source": [
        "### 3. Copy this code and add a row to display this set as a DataFrame\n"
      ]
    },
    {
      "cell_type": "markdown",
      "metadata": {
        "id": "mf3h1DsruXxP"
      },
      "source": [
        "Following the \"sequence of rows with the same order of fields\" principle, you can create a DataFrame from a list that contains such a sequence, or from multiple lists zip()-ed together in such a way that they provide a sequence like that:"
      ]
    },
    {
      "cell_type": "code",
      "metadata": {
        "id": "HmjAzR5LufVD"
      },
      "source": [
        "import pandas as pd\n",
        "\n",
        "listPepper = [ \n",
        "            [50, \"Bell pepper\", \"Not even spicy\"], \n",
        "            [5000, \"Espelette pepper\", \"Uncomfortable\"], \n",
        "            [500000, \"Chocolate habanero\", \"Practically ate pepper spray\"]\n",
        "            ]\n"
      ],
      "execution_count": null,
      "outputs": []
    },
    {
      "cell_type": "markdown",
      "metadata": {
        "id": "73sQd1aK47hY"
      },
      "source": [
        "### 4. Create an empty DataFrame with columns name only then appending rows one by one to it using append() method. The result must be as in a given image.\n",
        "![python-empty-dataframe.png](data:image/png;base64,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)"
      ]
    },
    {
      "cell_type": "markdown",
      "metadata": {
        "id": "__T1mWsOwFqx"
      },
      "source": [
        "# Assignment: Pandas"
      ]
    },
    {
      "cell_type": "markdown",
      "metadata": {
        "id": "bY8801ORgTDz"
      },
      "source": [
        "In this exercise, we will use pandas to examine house sale price data.\n",
        "\n",
        "This dataset contains house sale prices for King County, which includes Seattle. It includes homes sold between May 2014 and May 2015.\n",
        "\n",
        "[Download file](https://www.kaggle.com/harlfoxem/housesalesprediction/download) kc_house_data.csv and use it in your project \n",
        "\n",
        "A very common filetype is .csv (Comma-Separated-Values). The rows are provided as lines, with the values they are supposed to contain separated by a delimiter (most often a comma). You can set another delimiter via the sep argument."
      ]
    },
    {
      "cell_type": "markdown",
      "metadata": {
        "id": "lKype_DEg4RG"
      },
      "source": [
        "### 5. Start by importing panda and Use Pandas' read_csv function to read a file as a DataFrame. "
      ]
    },
    {
      "cell_type": "code",
      "metadata": {
        "id": "Ty-uRczPiCmi"
      },
      "source": [
        ""
      ],
      "execution_count": null,
      "outputs": []
    },
    {
      "cell_type": "markdown",
      "metadata": {
        "id": "NaCZwXTqh4KR"
      },
      "source": [
        "### 6. Use describe to get the basic statistics of all the columns\n",
        " Note the highest and lowest price of the house in the dataset."
      ]
    },
    {
      "cell_type": "code",
      "metadata": {
        "id": "VeIbhKz6iAuM"
      },
      "source": [
        ""
      ],
      "execution_count": null,
      "outputs": []
    },
    {
      "cell_type": "markdown",
      "metadata": {
        "id": "KKrq8f_OiD3K"
      },
      "source": [
        "### 7. Use sort_values to get the top 20 houses by price"
      ]
    },
    {
      "cell_type": "code",
      "metadata": {
        "id": "DNiL44-YiL2e"
      },
      "source": [
        ""
      ],
      "execution_count": null,
      "outputs": []
    },
    {
      "cell_type": "markdown",
      "metadata": {
        "id": "q10hrDpliMZI"
      },
      "source": [
        "### 8. Select all rows and columns (id, price, bedrooms, sqft_living) and display it below"
      ]
    },
    {
      "cell_type": "code",
      "metadata": {
        "id": "0Xx2UaNLiQmR"
      },
      "source": [
        ""
      ],
      "execution_count": null,
      "outputs": []
    },
    {
      "cell_type": "markdown",
      "metadata": {
        "id": "YE8ZMwQGiQ9n"
      },
      "source": [
        "### 9. Find the most expensive 10 houses with the highest number of sqft_living"
      ]
    },
    {
      "cell_type": "code",
      "metadata": {
        "id": "cpsqGJijiVW9"
      },
      "source": [
        ""
      ],
      "execution_count": null,
      "outputs": []
    },
    {
      "cell_type": "markdown",
      "metadata": {
        "id": "3SBCSR_nianx"
      },
      "source": [
        "### 10. Find the average price for different number of bedrooms?"
      ]
    },
    {
      "cell_type": "code",
      "metadata": {
        "id": "rcD4Qfvsib3W"
      },
      "source": [
        ""
      ],
      "execution_count": null,
      "outputs": []
    },
    {
      "cell_type": "markdown",
      "metadata": {
        "id": "ypYfA0ndicMm"
      },
      "source": [
        "### 11. Create a new column (sqft_price) in Pandas DataFrame based on the existing columns (price, sqft_lot). Calculate sqft_price with formula price/sqft_lot and fill result for each row."
      ]
    },
    {
      "cell_type": "code",
      "metadata": {
        "id": "WqwHuDaDo59F"
      },
      "source": [
        ""
      ],
      "execution_count": null,
      "outputs": []
    },
    {
      "cell_type": "markdown",
      "metadata": {
        "id": "XuZjz--ho8rV"
      },
      "source": [
        "### 12. Your code: additional manipulations with data. Describe it here. It shoudn't be simple and obvious. //DELETE THIS DESCRIPTION AND YOUR OWN, Just like 15. You description. "
      ]
    },
    {
      "cell_type": "code",
      "metadata": {
        "id": "IyR89YJ4o87h"
      },
      "source": [
        ""
      ],
      "execution_count": null,
      "outputs": []
    },
    {
      "cell_type": "markdown",
      "metadata": {
        "id": "OPU6WIC43wnE"
      },
      "source": [
        "### 13. Your code: additional manipulations with data. Describe it here. It shoudn't be simple and obvious. //DELETE THIS DESCRIPTION AND YOUR OWN, Just like 15. You description. "
      ]
    },
    {
      "cell_type": "code",
      "metadata": {
        "id": "KOXpaf-Ko8gW"
      },
      "source": [
        ""
      ],
      "execution_count": null,
      "outputs": []
    },
    {
      "cell_type": "markdown",
      "metadata": {
        "id": "YkeiLBavo8Pk"
      },
      "source": [
        "### 14. Your code: additional manipulations with data. Describe it here. It shoudn't be simple and obvious. //DELETE THIS DESCRIPTION AND YOUR OWN, Just like 15. You description. "
      ]
    },
    {
      "cell_type": "code",
      "metadata": {
        "id": "n6sqvjo1o8Dc"
      },
      "source": [
        ""
      ],
      "execution_count": null,
      "outputs": []
    },
    {
      "cell_type": "markdown",
      "metadata": {
        "id": "dO27GbNso7lk"
      },
      "source": [
        "### 15. Your code: additional manipulations with data. Describe it here. It shoudn't be simple and obvious. //DELETE THIS DESCRIPTION AND YOUR OWN, Just like 15. You description. "
      ]
    },
    {
      "cell_type": "code",
      "metadata": {
        "id": "D_oNIdTGo7RU"
      },
      "source": [
        ""
      ],
      "execution_count": null,
      "outputs": []
    }
  ]
}